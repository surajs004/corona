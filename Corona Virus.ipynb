{
 "cells": [
  {
   "cell_type": "code",
   "execution_count": 1,
   "metadata": {},
   "outputs": [],
   "source": [
    "#corona analysis\n",
    "import pandas as pd\n",
    "import numpy as np"
   ]
  },
  {
   "cell_type": "code",
   "execution_count": 3,
   "metadata": {},
   "outputs": [
    {
     "data": {
      "text/html": [
       "<div>\n",
       "<style scoped>\n",
       "    .dataframe tbody tr th:only-of-type {\n",
       "        vertical-align: middle;\n",
       "    }\n",
       "\n",
       "    .dataframe tbody tr th {\n",
       "        vertical-align: top;\n",
       "    }\n",
       "\n",
       "    .dataframe thead th {\n",
       "        text-align: right;\n",
       "    }\n",
       "</style>\n",
       "<table border=\"1\" class=\"dataframe\">\n",
       "  <thead>\n",
       "    <tr style=\"text-align: right;\">\n",
       "      <th></th>\n",
       "      <th>SNo</th>\n",
       "      <th>ObservationDate</th>\n",
       "      <th>Province/State</th>\n",
       "      <th>Country/Region</th>\n",
       "      <th>Last Update</th>\n",
       "      <th>Confirmed</th>\n",
       "      <th>Deaths</th>\n",
       "      <th>Recovered</th>\n",
       "    </tr>\n",
       "  </thead>\n",
       "  <tbody>\n",
       "    <tr>\n",
       "      <td>0</td>\n",
       "      <td>1</td>\n",
       "      <td>01/22/2020</td>\n",
       "      <td>Anhui</td>\n",
       "      <td>Mainland China</td>\n",
       "      <td>1/22/2020 17:00</td>\n",
       "      <td>1.0</td>\n",
       "      <td>0.0</td>\n",
       "      <td>0.0</td>\n",
       "    </tr>\n",
       "    <tr>\n",
       "      <td>1</td>\n",
       "      <td>2</td>\n",
       "      <td>01/22/2020</td>\n",
       "      <td>Beijing</td>\n",
       "      <td>Mainland China</td>\n",
       "      <td>1/22/2020 17:00</td>\n",
       "      <td>14.0</td>\n",
       "      <td>0.0</td>\n",
       "      <td>0.0</td>\n",
       "    </tr>\n",
       "    <tr>\n",
       "      <td>2</td>\n",
       "      <td>3</td>\n",
       "      <td>01/22/2020</td>\n",
       "      <td>Chongqing</td>\n",
       "      <td>Mainland China</td>\n",
       "      <td>1/22/2020 17:00</td>\n",
       "      <td>6.0</td>\n",
       "      <td>0.0</td>\n",
       "      <td>0.0</td>\n",
       "    </tr>\n",
       "    <tr>\n",
       "      <td>3</td>\n",
       "      <td>4</td>\n",
       "      <td>01/22/2020</td>\n",
       "      <td>Fujian</td>\n",
       "      <td>Mainland China</td>\n",
       "      <td>1/22/2020 17:00</td>\n",
       "      <td>1.0</td>\n",
       "      <td>0.0</td>\n",
       "      <td>0.0</td>\n",
       "    </tr>\n",
       "    <tr>\n",
       "      <td>4</td>\n",
       "      <td>5</td>\n",
       "      <td>01/22/2020</td>\n",
       "      <td>Gansu</td>\n",
       "      <td>Mainland China</td>\n",
       "      <td>1/22/2020 17:00</td>\n",
       "      <td>0.0</td>\n",
       "      <td>0.0</td>\n",
       "      <td>0.0</td>\n",
       "    </tr>\n",
       "  </tbody>\n",
       "</table>\n",
       "</div>"
      ],
      "text/plain": [
       "   SNo ObservationDate Province/State  Country/Region      Last Update  \\\n",
       "0    1      01/22/2020          Anhui  Mainland China  1/22/2020 17:00   \n",
       "1    2      01/22/2020        Beijing  Mainland China  1/22/2020 17:00   \n",
       "2    3      01/22/2020      Chongqing  Mainland China  1/22/2020 17:00   \n",
       "3    4      01/22/2020         Fujian  Mainland China  1/22/2020 17:00   \n",
       "4    5      01/22/2020          Gansu  Mainland China  1/22/2020 17:00   \n",
       "\n",
       "   Confirmed  Deaths  Recovered  \n",
       "0        1.0     0.0        0.0  \n",
       "1       14.0     0.0        0.0  \n",
       "2        6.0     0.0        0.0  \n",
       "3        1.0     0.0        0.0  \n",
       "4        0.0     0.0        0.0  "
      ]
     },
     "execution_count": 3,
     "metadata": {},
     "output_type": "execute_result"
    }
   ],
   "source": [
    "df=pd.read_csv('C:/Users/Suraj S/Downloads/corona analysis/covid_19_data.csv')\n",
    "df.head()"
   ]
  },
  {
   "cell_type": "code",
   "execution_count": 4,
   "metadata": {},
   "outputs": [
    {
     "name": "stdout",
     "output_type": "stream",
     "text": [
      "Mean:  577.4608907600266\n",
      "Standard Deviation:  4989.693764794891\n"
     ]
    }
   ],
   "source": [
    "print(\"Mean: \", df['Confirmed'].mean())\n",
    "print(\"Standard Deviation: \", df['Confirmed'].std())"
   ]
  },
  {
   "cell_type": "code",
   "execution_count": 6,
   "metadata": {},
   "outputs": [
    {
     "data": {
      "text/plain": [
       "<matplotlib.axes._subplots.AxesSubplot at 0x18eb2490f08>"
      ]
     },
     "execution_count": 6,
     "metadata": {},
     "output_type": "execute_result"
    }
   ],
   "source": [
    "import seaborn as sns \n",
    "import matplotlib.pyplot as plt\n",
    "sns.set()\n",
    "plt.title(\"Confimed Cases Histogram\")\n",
    "df['Confirmed'].hist(bins = 10)"
   ]
  },
  {
   "cell_type": "code",
   "execution_count": 7,
   "metadata": {},
   "outputs": [
    {
     "name": "stdout",
     "output_type": "stream",
     "text": [
      "Mean:  190.69022822955904\n",
      "Standard Deviation:  2038.4246565518565\n"
     ]
    }
   ],
   "source": [
    "print(\"Mean: \", df['Recovered'].mean())\n",
    "print(\"Standard Deviation: \", df['Recovered'].std())"
   ]
  },
  {
   "cell_type": "code",
   "execution_count": 8,
   "metadata": {},
   "outputs": [
    {
     "data": {
      "text/plain": [
       "<matplotlib.axes._subplots.AxesSubplot at 0x18eb26a6d08>"
      ]
     },
     "execution_count": 8,
     "metadata": {},
     "output_type": "execute_result"
    },
    {
     "data": {
      "image/png": "[encoded data removed]",
      "text/plain": [
       "<Figure size 432x288 with 1 Axes>"
      ]
     },
     "metadata": {
      "needs_background": "light"
     },
     "output_type": "display_data"
    }
   ],
   "source": [
    "plt.title(\"Recovered Cases Histogram\")\n",
    "sns.set()\n",
    "df['Recovered'].hist(bins = 200)"
   ]
  },
  {
   "cell_type": "code",
   "execution_count": 9,
   "metadata": {},
   "outputs": [
    {
     "name": "stdout",
     "output_type": "stream",
     "text": [
      "Mean:  17.382450697983604\n",
      "Standard Deviation:  190.0660182349809\n"
     ]
    }
   ],
   "source": [
    "print(\"Mean: \", df['Deaths'].mean())\n",
    "print(\"Standard Deviation: \", df['Deaths'].std())"
   ]
  },
  {
   "cell_type": "code",
   "execution_count": 10,
   "metadata": {},
   "outputs": [
    {
     "data": {
      "text/plain": [
       "<matplotlib.axes._subplots.AxesSubplot at 0x18eb296a648>"
      ]
     },
     "execution_count": 10,
     "metadata": {},
     "output_type": "execute_result"
    },
    {
     "data": {
      "image/png": "[encoded data removed]",
      "text/plain": [
       "<Figure size 432x288 with 1 Axes>"
      ]
     },
     "metadata": {},
     "output_type": "display_data"
    }
   ],
   "source": [
    "plt.title(\"Deaths Histogram\")\n",
    "sns.set()\n",
    "df['Deaths'].hist(bins = 200)"
   ]
  },
  {
   "cell_type": "code",
   "execution_count": 11,
   "metadata": {},
   "outputs": [
    {
     "name": "stdout",
     "output_type": "stream",
     "text": [
      "Counter({nan: 1601, 'Anhui': 48, 'Beijing': 48, 'Chongqing': 48, 'Fujian': 48, 'Gansu': 48, 'Guangdong': 48, 'Guangxi': 48, 'Guizhou': 48, 'Hainan': 48, 'Hebei': 48, 'Heilongjiang': 48, 'Henan': 48, 'Hong Kong': 48, 'Hubei': 48, 'Hunan': 48, 'Inner Mongolia': 48, 'Jiangsu': 48, 'Jiangxi': 48, 'Jilin': 48, 'Liaoning': 48, 'Macau': 48, 'Ningxia': 48, 'Qinghai': 48, 'Shaanxi': 48, 'Shandong': 48, 'Shanghai': 48, 'Shanxi': 48, 'Sichuan': 48, 'Taiwan': 48, 'Tianjin': 48, 'Xinjiang': 48, 'Yunnan': 48, 'Zhejiang': 48, 'New South Wales': 43, 'Victoria': 43, 'Tibet': 42, 'British Columbia': 42, 'Queensland': 40, 'South Australia': 38, 'Los Angeles, CA': 38, 'San Benito, CA': 36, 'Santa Clara, CA': 35, 'Tempe, AZ': 35, 'Boston, MA': 34, 'Toronto, ON': 34, 'London, ON': 34, 'Madison, WI': 34, 'Orange, CA': 32, 'Chicago, IL': 30, 'Seattle, WA': 30, 'Diamond Princess cruise ship': 30, 'San Diego County, CA': 28, 'San Antonio, TX': 26, 'From Diamond Princess': 23, 'Humboldt County, CA': 18, 'Sacramento County, CA': 18, 'Omaha, NE (From Diamond Princess)': 17, 'Travis, CA (From Diamond Princess)': 17, 'Lackland, TX (From Diamond Princess)': 17, 'Unassigned Location (From Diamond Princess)': 15, 'Washington': 10, 'Ontario': 10, ' Montreal, QC': 10, 'Western Australia': 10, 'Snohomish County, WA': 10, 'King County, WA': 8, 'Cook County, IL': 8, 'Tasmania': 8, 'Grafton County, NH': 8, 'Hillsborough, FL': 8, 'Placer County, CA': 8, 'San Mateo, CA': 8, 'Sarasota, FL': 8, 'Sonoma County, CA': 8, 'Umatilla, OR': 8, 'Illinois': 7, 'Fulton County, GA': 7, 'Washington County, OR': 7, 'Maricopa County, AZ': 7, 'Wake County, NC': 7, 'Westchester County, NY': 7, 'California': 6, 'Arizona': 6, 'Providence, RI': 6, 'Orange County, CA': 6, 'Northern Territory': 6, 'Contra Costa County, CA': 6, ' Norfolk County, MA': 5, 'Bergen County, NJ': 5, 'Harris County, TX': 5, 'San Francisco County, CA': 5, 'Clark County, NV': 5, 'Fort Bend County, TX': 5, 'Grant County, WA': 5, 'Santa Rosa County, FL': 5, 'Williamson County, TN': 5, 'Bavaria': 4, 'New York City, NY': 4, 'Berkeley, CA': 4, 'New York County, NY': 4, 'Unassigned Location, WA': 4, 'Montgomery County, MD': 4, 'Suffolk County, MA': 4, 'Denver County, CO': 4, 'Summit County, CO': 4, 'Chatham County, NC': 4, 'Delaware County, PA': 4, 'Douglas County, NE': 4, 'Fayette County, KY': 4, 'Marion County, IN': 4, 'Middlesex County, MA': 4, 'Nassau County, NY': 4, 'Ramsey County, MN': 4, 'Washoe County, NV': 4, 'Wayne County, PA': 4, 'Yolo County, CA': 4, 'None': 3, 'Portland, OR': 3, 'Calgary, Alberta': 3, 'Santa Clara County, CA': 3, 'Grand Princess Cruise Ship': 3, 'Douglas County, CO': 3, 'Providence County, RI': 3, 'Alameda County, CA': 3, 'Broward County, FL': 3, 'Fairfield County, CT': 3, 'Lee County, FL': 3, 'Pinal County, AZ': 3, 'Rockland County, NY': 3, 'Saratoga County, NY': 3, 'Charleston County, SC': 3, 'Clark County, WA': 3, 'Cobb County, GA': 3, 'Davis County, UT': 3, 'El Paso County, CO': 3, 'Honolulu County, HI': 3, 'Jackson County, OR ': 3, 'Jefferson County, WA': 3, 'Kershaw County, SC': 3, 'Klamath County, OR': 3, 'Madera County, CA': 3, 'Pierce County, WA': 3, 'Plymouth County, MA': 3, 'Tulsa County, OK': 3, 'Montgomery County, TX': 3, 'Cruise Ship': 2, 'Floyd County, GA': 2, 'Edmonton, Alberta': 2, 'Norfolk County, MA': 2, 'Montgomery County, PA': 2, 'Fairfax County, VA': 2, 'Rockingham County, NH': 2, 'Washington, D.C.': 2, 'Berkshire County, MA': 2, 'Davidson County, TN': 2, 'Douglas County, OR': 2, 'Fresno County, CA': 2, 'Harford County, MD': 2, 'Hendricks County, IN': 2, 'Hudson County, NJ': 2, 'Johnson County, KS': 2, 'Kittitas County, WA': 2, 'Manatee County, FL': 2, 'Marion County, OR': 2, 'Okaloosa County, FL': 2, 'Polk County, GA': 2, 'Riverside County, CA': 2, 'Shelby County, TN': 2, 'Spokane County, WA': 2, 'St. Louis County, MO': 2, 'Suffolk County, NY': 2, 'Ulster County, NY': 2, 'Unknown Location, MA': 2, 'Volusia County, FL': 2, 'Chicago': 1, 'Ashland, NE': 1, 'Travis, CA': 1, 'Lackland, TX': 1, 'Queens County, NY': 1, 'Norwell County, MA': 1, 'Santa Cruz County, CA': 1, 'Unassigned Location, VT': 1, 'Alberta': 1, 'Quebec': 1, 'Johnson County, IA': 1, 'Harrison County, KY': 1, 'Bennington County, VT': 1, 'Carver County, MN': 1, 'Charlotte County, FL': 1, 'Cherokee County, GA': 1, 'Collin County, TX': 1, 'Jefferson County, KY': 1, 'Jefferson Parish, LA': 1, 'Shasta County, CA': 1, 'Spartanburg County, SC': 1})\n"
     ]
    }
   ],
   "source": [
    "from collections import Counter\n",
    "print(Counter(df['Province/State'].values))"
   ]
  },
  {
   "cell_type": "code",
   "execution_count": 12,
   "metadata": {},
   "outputs": [
    {
     "name": "stdout",
     "output_type": "stream",
     "text": [
      "[('Anhui', 48), ('Beijing', 48), ('Chongqing', 48), ('Fujian', 48), ('Gansu', 48)]\n"
     ]
    }
   ],
   "source": [
    "df.dropna(inplace=True)\n",
    "print(Counter(df['Province/State'].values).most_common(5))"
   ]
  },
  {
   "cell_type": "code",
   "execution_count": 13,
   "metadata": {},
   "outputs": [
    {
     "data": {
      "image/png": "[encoded data removed]",
      "text/plain": [
       "<Figure size 432x288 with 1 Axes>"
      ]
     },
     "metadata": {},
     "output_type": "display_data"
    }
   ],
   "source": [
    "#confirmed\n",
    "df = df[df['Province/State'].isin(['Anhui', 'Beijing', 'Chongqing'])]\n",
    "sns.boxplot(x= df['Province/State'], y = df['Confirmed'])\n",
    "plt.show()"
   ]
  },
  {
   "cell_type": "code",
   "execution_count": 14,
   "metadata": {},
   "outputs": [
    {
     "data": {
      "image/png": "[encoded data removed]",
      "text/plain": [
       "<Figure size 432x288 with 1 Axes>"
      ]
     },
     "metadata": {},
     "output_type": "display_data"
    }
   ],
   "source": [
    "#recovered cases\n",
    "df = df[df['Province/State'].isin(['Anhui', 'Beijing', 'Chongqing'])]\n",
    "sns.boxplot(x= df['Province/State'], y = df['Recovered'])\n",
    "plt.show()"
   ]
  },
  {
   "cell_type": "code",
   "execution_count": 15,
   "metadata": {},
   "outputs": [
    {
     "data": {
      "image/png": "[encoded data removed]",
      "text/plain": [
       "<Figure size 432x288 with 1 Axes>"
      ]
     },
     "metadata": {},
     "output_type": "display_data"
    }
   ],
   "source": [
    "#Death\n",
    "df = df[df['Province/State'].isin(['Anhui', 'Beijing', 'Chongqing'])]\n",
    "sns.boxplot(x= df['Province/State'], y = df['Deaths'])\n",
    "plt.show()"
   ]
  }
 ],
 "metadata": {
  "kernelspec": {
   "display_name": "Python 3",
   "language": "python",
   "name": "python3"
  },
  "language_info": {
   "codemirror_mode": {
    "name": "ipython",
    "version": 3
   },
   "file_extension": ".py",
   "mimetype": "text/x-python",
   "name": "python",
   "nbconvert_exporter": "python",
   "pygments_lexer": "ipython3",
   "version": "3.7.4"
  }
 },
 "nbformat": 4,
 "nbformat_minor": 2
}
